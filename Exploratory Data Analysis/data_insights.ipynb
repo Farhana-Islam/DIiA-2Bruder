{
 "cells": [
  {
   "cell_type": "code",
   "execution_count": null,
   "metadata": {},
   "outputs": [],
   "source": [
    "import pandas as pd\n",
    "from datetime import datetime\n",
    "import numpy as np\n",
    "import seaborn as sns\n",
    "import json\n",
    "import matplotlib.pyplot as plt\n",
    "from preprocessing import preprocess\n",
    "\n",
    "from sklearn.model_selection import train_test_split\n",
    "from sklearn.ensemble import RandomForestRegressor\n",
    "from sklearn.metrics import mean_squared_error\n",
    "from sklearn.metrics import mean_absolute_error\n",
    "from sklearn.metrics import r2_score\n",
    "from sklearn.linear_model import LogisticRegression\n"
   ]
  },
  {
   "cell_type": "markdown",
   "metadata": {},
   "source": [
    "## Loading and preprocessing the data"
   ]
  },
  {
   "cell_type": "markdown",
   "metadata": {},
   "source": [
    "### HFG Data"
   ]
  },
  {
   "cell_type": "code",
   "execution_count": null,
   "metadata": {},
   "outputs": [],
   "source": [
    "#2022\n",
    "df_jan_2022 = pd.read_csv('C:/Users/20193222/OneDrive - TU Eindhoven/DIiA Data/sales_data_jan_2022.csv')\n",
    "df_feb_2022 = pd.read_csv('C:/Users/20193222/OneDrive - TU Eindhoven/DIiA Data/sales_data_feb_2022.csv')\n",
    "df_mrt_2022 = pd.read_csv('C:/Users/20193222/OneDrive - TU Eindhoven/DIiA Data/sales_data_march_2022.csv')\n",
    "df_apr_2022 = pd.read_csv('C:/Users/20193222/OneDrive - TU Eindhoven/DIiA Data/sales_data_april_2022.csv')\n",
    "df_may_2022 = pd.read_csv('C:/Users/20193222/OneDrive - TU Eindhoven/DIiA Data/sales_data_may_2022.csv')\n",
    "df_june_2022 = pd.read_csv('C:/Users/20193222/OneDrive - TU Eindhoven/DIiA Data/sales_data_June_2022.csv')\n",
    "# df_july_2022 = pd.read_csv('C:/Users/20193222/OneDrive - TU Eindhoven/DIiA Data/sales_data_july_2022.csv')\n",
    "# df_aug_2022 = pd.read_csv('C:/Users/20193222/OneDrive - TU Eindhoven/DIiA Data/sales_data_aug_2022.csv')\n",
    "# df_sep_2022 = pd.read_csv('C:/Users/20193222/OneDrive - TU Eindhoven/DIiA Data/sales_data_sep_2022.csv')\n",
    "df_oct_2022 = pd.read_csv('C:/Users/20193222/OneDrive - TU Eindhoven/DIiA Data/oct_2022.csv')\n",
    "df_nov_2022 = pd.read_csv('C:/Users/20193222/OneDrive - TU Eindhoven/DIiA Data/nov_2022.csv')\n",
    "df_dec_2022 = pd.read_csv('C:/Users/20193222/OneDrive - TU Eindhoven/DIiA Data/sales_data_dec_2022.csv')\n",
    "\n",
    "#2023\n",
    "df_jan_2023 = pd.read_csv('C:/Users/20193222/OneDrive - TU Eindhoven/DIiA Data/sales_data_jan_2023.csv')\n",
    "# df_feb_2023 = pd.read_csv('C:/Users/20193222/OneDrive - TU Eindhoven/DIiA Data/sales_data_feb_2023.csv')\n",
    "df_mar_2023 = pd.read_csv('C:/Users/20193222/OneDrive - TU Eindhoven/DIiA Data/sales_data_mar_2023.csv')\n",
    "df_apr_2023 = pd.read_csv('C:/Users/20193222/OneDrive - TU Eindhoven/DIiA Data/sales_data_apr_2023.csv')\n",
    "df_may_2023 = pd.read_csv('C:/Users/20193222/OneDrive - TU Eindhoven/DIiA Data/sales_data_may_2023.csv')\n",
    "df_june_2023_1 = pd.read_csv('C:/Users/20193222/OneDrive - TU Eindhoven/DIiA Data/sales_data_june_1_10_2023.csv')\n",
    "df_june_2023_2 = pd.read_csv('C:/Users/20193222/OneDrive - TU Eindhoven/DIiA Data/sales_data_june_11_20_2023.csv')\n",
    "df_june_2023_3 = pd.read_csv('C:/Users/20193222/OneDrive - TU Eindhoven/DIiA Data/sales_data_june_21_30_2023.csv')"
   ]
  },
  {
   "cell_type": "code",
   "execution_count": null,
   "metadata": {},
   "outputs": [],
   "source": [
    "df_2022 = pd.concat([df_jan_2022, df_feb_2022, df_mrt_2022, df_apr_2022, df_may_2022, df_june_2022, df_oct_2022, df_nov_2022, df_dec_2022])\n",
    "df_2023 = pd.concat([df_jan_2023, df_mar_2023, df_apr_2023, df_may_2023, df_june_2023_1, df_june_2023_2, df_june_2023_3])"
   ]
  },
  {
   "cell_type": "markdown",
   "metadata": {},
   "source": [
    "### Holiday Data"
   ]
  },
  {
   "cell_type": "code",
   "execution_count": null,
   "metadata": {},
   "outputs": [],
   "source": [
    "holidays = pd.read_excel('C:/Users/20193222/OneDrive - TU Eindhoven/JADS/DiIA Project/holidays_de_2023.xlsx', header=None, names=['Date','Weekday','Holiday','Region'])\n",
    "schools = pd.read_excel('C:/Users/20193222/OneDrive - TU Eindhoven/JADS/DiIA Project/schoolholidays_de_2023.xlsx', header=None, names=['Date','Holiday'])"
   ]
  },
  {
   "cell_type": "code",
   "execution_count": null,
   "metadata": {},
   "outputs": [],
   "source": [
    "#Date to datetime\n",
    "holidays['Date'] = pd.to_datetime(holidays['Date'], utc=True).dt.date\n",
    "schools['Date'] = pd.to_datetime(schools['Date'], utc=True).dt.date"
   ]
  },
  {
   "cell_type": "markdown",
   "metadata": {},
   "source": [
    "### Weather Data"
   ]
  },
  {
   "cell_type": "code",
   "execution_count": null,
   "metadata": {},
   "outputs": [],
   "source": [
    "with open('C:/Users/20193222/OneDrive - TU Eindhoven/JADS/DiIA Project/weather.json') as json_file:\n",
    "    weather = json.load(json_file)\n",
    "    \n",
    "#dataframe with weather\n",
    "df_weather = pd.DataFrame(weather)\n",
    "df_weather.columns = ['Station_code', 'Date', 'Avg Wind Speed', 'Avg Temp', 'Min Temp', 'Max Temp', 'Sun Hours', 'Hours of rain', 'Rain', 'Clouds']\n",
    "df_weather['Date'] = pd.to_datetime(df_weather['Date'], utc=True).dt.date"
   ]
  },
  {
   "cell_type": "markdown",
   "metadata": {},
   "source": [
    "### Preprocessing"
   ]
  },
  {
   "cell_type": "code",
   "execution_count": null,
   "metadata": {},
   "outputs": [],
   "source": [
    "df_2022_processed = preprocess(df_2022, holidays, schools, df_weather)"
   ]
  },
  {
   "cell_type": "code",
   "execution_count": null,
   "metadata": {},
   "outputs": [],
   "source": [
    "df_2023_processed = preprocess(df_2023, holidays, schools, df_weather)"
   ]
  },
  {
   "cell_type": "code",
   "execution_count": null,
   "metadata": {},
   "outputs": [],
   "source": [
    "df_all_processed = pd.concat([df_2022_processed, df_2023_processed], ignore_index=True)"
   ]
  },
  {
   "cell_type": "code",
   "execution_count": null,
   "metadata": {},
   "outputs": [],
   "source": [
    "#save to csv\n",
    "# df_2023_processed.to_csv('C:/Users/20193222/OneDrive - TU Eindhoven/JADS/DiIA Project/data_2023_processed.csv', index=False)\n",
    "# df_2022_processed.to_csv('C:/Users/20193222/OneDrive - TU Eindhoven/JADS/DiIA Project/data_2022_processed.csv', index=False)"
   ]
  },
  {
   "cell_type": "code",
   "execution_count": null,
   "metadata": {},
   "outputs": [],
   "source": [
    "#open processed data\n",
    "df_2022_processed = pd.read_csv('C:/Users/20193222/OneDrive - TU Eindhoven/DIiA Data/data_2022_processed.csv')\n",
    "df_2023_processed = pd.read_csv('C:/Users/20193222/OneDrive - TU Eindhoven/DIiA Data/data_2023_processed.csv')\n",
    "\n",
    "df_all_processed = pd.concat([df_2022_processed, df_2023_processed], ignore_index=True)"
   ]
  },
  {
   "cell_type": "markdown",
   "metadata": {},
   "source": [
    "## Visualizations Data Insights"
   ]
  },
  {
   "cell_type": "markdown",
   "metadata": {},
   "source": [
    "### Sales per day"
   ]
  },
  {
   "cell_type": "code",
   "execution_count": null,
   "metadata": {},
   "outputs": [],
   "source": [
    "df_sales_per_day = df_2023_processed.groupby('Day').agg({'customID': 'count', 'HolidayBool': 'mean', 'Weekday': 'mean', 'Month': 'mean', 'Season': pd.Series.mode, 'Avg Temp': 'mean'})\n",
    "df_sales_per_day.head()"
   ]
  },
  {
   "cell_type": "code",
   "execution_count": null,
   "metadata": {},
   "outputs": [],
   "source": [
    "fig, ax = plt.subplots(figsize=(15,6))\n",
    "fig.suptitle('Sales per day', fontsize=16)\n",
    "sns.barplot(x=df_sales_per_day.index, y=df_sales_per_day['customID'], hue = df_sales_per_day['HolidayBool'], ax=ax)\n",
    "ax.set_xlabel('Day', fontsize=14)\n",
    "ax.set_ylabel('Sales', fontsize=14)\n",
    "# set x ticks and labels to show the date only every 7 days\n",
    "ax.set_xticks(np.arange(0, len(df_sales_per_day.index), 7))\n",
    "plt.xticks(rotation=90)\n",
    "plt.show()"
   ]
  },
  {
   "cell_type": "markdown",
   "metadata": {},
   "source": [
    "### Sales per weekday"
   ]
  },
  {
   "cell_type": "code",
   "execution_count": null,
   "metadata": {},
   "outputs": [],
   "source": [
    "#plot sales per weekday\n",
    "df_sales_per_weekday = df_2023_processed.groupby('Weekday').agg({'customID': 'count'}).reset_index()\n",
    "weekdays = ['Monday', 'Tuesday', 'Wednesday', 'Thursday', 'Friday', 'Saturday', 'Sunday']"
   ]
  },
  {
   "cell_type": "code",
   "execution_count": null,
   "metadata": {},
   "outputs": [],
   "source": [
    "fig, ax = plt.subplots(figsize=(15,6))\n",
    "fig.suptitle('Sales per weekday', fontsize=16)\n",
    "sns.barplot(x=df_sales_per_weekday['Weekday'], y=df_sales_per_weekday['customID'], ax=ax, palette='Paired')\n",
    "ax.set_xticklabels(weekdays)\n",
    "ax.set_xlabel('Weekday', fontsize=14)\n",
    "ax.set_ylabel('Sales', fontsize=14)\n",
    "plt.show()"
   ]
  },
  {
   "cell_type": "markdown",
   "metadata": {},
   "source": [
    "### Sales during holidays"
   ]
  },
  {
   "cell_type": "code",
   "execution_count": null,
   "metadata": {},
   "outputs": [],
   "source": [
    "#average sales per day\n",
    "df_sales_per_day = df_2023_processed.groupby('Day').agg({'customID': 'count', 'HolidayBool': 'mean'}).reset_index()\n",
    "\n",
    "#average sales:\n",
    "avg_sales_holiday = df_sales_per_day[df_sales_per_day['HolidayBool'] == 1]['customID'].mean()\n",
    "avg_sales_no_holiday = df_sales_per_day[df_sales_per_day['HolidayBool'] == 0]['customID'].mean()\n",
    "\n",
    "df_avg_sales_per_holiday = pd.DataFrame({'Holiday': ['Yes', 'No'], 'Avg Sales': [avg_sales_holiday, avg_sales_no_holiday]})"
   ]
  },
  {
   "cell_type": "code",
   "execution_count": null,
   "metadata": {},
   "outputs": [],
   "source": [
    "#plot avg sales holiday\n",
    "fig, ax = plt.subplots(figsize=(15,6))\n",
    "fig.suptitle('Sales during holidays vs no holidays', fontsize=16)\n",
    "sns.barplot(x=df_avg_sales_per_holiday['Holiday'], y=df_avg_sales_per_holiday['Avg Sales'], ax=ax, palette='Paired')\n",
    "ax.set_xticklabels(['Holiday', 'No holiday'])\n",
    "ax.set_xlabel('Holiday', fontsize=14)\n",
    "ax.set_ylabel('Sales', fontsize=14)\n",
    "plt.show()"
   ]
  },
  {
   "cell_type": "markdown",
   "metadata": {},
   "source": [
    "### Sales per month"
   ]
  },
  {
   "cell_type": "code",
   "execution_count": null,
   "metadata": {},
   "outputs": [],
   "source": [
    "df_sales_per_month_22 = df_2022_processed.groupby('Month').agg({'customID': 'count', 'Season': pd.Series.mode, 'RainBool':  'count'}).reset_index()\n",
    "df_sales_per_month_23 = df_2023_processed.groupby('Month').agg({'customID': 'count', 'Season': pd.Series.mode, 'RainBool':  'count'}).reset_index()"
   ]
  },
  {
   "cell_type": "code",
   "execution_count": null,
   "metadata": {},
   "outputs": [],
   "source": [
    "fig, ax = plt.subplots(figsize=(15,6))\n",
    "fig.suptitle('Sales per month in 2022', fontsize=16)\n",
    "sns.barplot(x=df_sales_per_month_22['Month'], y=df_sales_per_month_22['customID'], ax=ax, palette='Paired')\n",
    "ax.set_xlabel('Month', fontsize=14)\n",
    "ax.set_ylabel('Sales', fontsize=14)\n",
    "plt.show()"
   ]
  },
  {
   "cell_type": "code",
   "execution_count": null,
   "metadata": {},
   "outputs": [],
   "source": [
    "fig, ax = plt.subplots(figsize=(15,6))\n",
    "fig.suptitle('Sales per month in 2023', fontsize=16)\n",
    "sns.barplot(x=df_sales_per_month_23['Month'], y=df_sales_per_month_23['customID'], ax=ax, palette='Paired')\n",
    "ax.set_xlabel('Month', fontsize=14)\n",
    "ax.set_ylabel('Sales', fontsize=14)\n",
    "plt.show()"
   ]
  },
  {
   "cell_type": "code",
   "execution_count": null,
   "metadata": {},
   "outputs": [],
   "source": [
    "#group by year and month\n",
    "df_sales_per_month = df_all_processed.groupby(['Year', 'Month']).agg({'customID': 'count'}).reset_index()\n",
    "\n",
    "#only show january until june\n",
    "df_sales_per_month = df_sales_per_month[df_sales_per_month['Month'] < 7]"
   ]
  },
  {
   "cell_type": "code",
   "execution_count": null,
   "metadata": {},
   "outputs": [],
   "source": [
    "#compare months 2022 and 2023\n",
    "fig, ax = plt.subplots(figsize=(15,6))\n",
    "fig.suptitle('Sales per month in 2022 and 2023', fontsize=16)\n",
    "sns.barplot(x=df_sales_per_month['Month'], y=df_sales_per_month['customID'], ax=ax, hue=df_sales_per_month['Year'], palette='Paired')\n",
    "ax.set_xlabel('Month', fontsize=14)\n",
    "ax.set_ylabel('Sales', fontsize=14)\n",
    "plt.show()"
   ]
  },
  {
   "cell_type": "markdown",
   "metadata": {},
   "source": [
    "### Sales per season"
   ]
  },
  {
   "cell_type": "code",
   "execution_count": null,
   "metadata": {},
   "outputs": [],
   "source": [
    "df_sales_per_season = df_2022_processed.groupby('Season').agg({'customID': 'count'}).reset_index()\n",
    "\n",
    "#avg sales per day\n",
    "avg_sales_spring = df_sales_per_season[df_sales_per_season['Season'] == 'Spring']['customID'].mean()\n",
    "avg_sales_summer = df_sales_per_season[df_sales_per_season['Season'] == 'Summer']['customID'].mean()\n",
    "avg_sales_autumn = df_sales_per_season[df_sales_per_season['Season'] == 'Autumn']['customID'].mean()\n",
    "avg_sales_winter = df_sales_per_season[df_sales_per_season['Season'] == 'Winter']['customID'].mean()\n",
    "\n",
    "df_avg_sales_season = pd.DataFrame({'Season': ['Spring', 'Summer', 'Autumn', 'Winter'], 'Avg Sales': [avg_sales_spring, avg_sales_summer, avg_sales_autumn, avg_sales_winter]})"
   ]
  },
  {
   "cell_type": "code",
   "execution_count": null,
   "metadata": {},
   "outputs": [],
   "source": [
    "fig, ax = plt.subplots(figsize=(15,6))\n",
    "fig.suptitle('Sales per season', fontsize=16)\n",
    "sns.barplot(x=df_sales_per_season['Season'], y=df_sales_per_season['customID'], ax=ax, palette='Paired')\n",
    "ax.set_xlabel('Season', fontsize=14)\n",
    "ax.set_ylabel('Sales', fontsize=14)\n",
    "plt.show()"
   ]
  },
  {
   "cell_type": "code",
   "execution_count": null,
   "metadata": {},
   "outputs": [],
   "source": [
    "fig, ax = plt.subplots(figsize=(15,6))\n",
    "fig.suptitle('Average sales per season', fontsize=16)\n",
    "sns.barplot(x=df_avg_sales_season['Season'], y=df_avg_sales_season['Avg Sales'], ax=ax, palette='Paired')\n",
    "ax.set_xlabel('Season', fontsize=14)\n",
    "ax.set_ylabel('Sales', fontsize=14)\n",
    "plt.show()"
   ]
  },
  {
   "cell_type": "markdown",
   "metadata": {},
   "source": [
    "### Sales during rain"
   ]
  },
  {
   "cell_type": "code",
   "execution_count": null,
   "metadata": {},
   "outputs": [],
   "source": [
    "df_sales_per_rain = df_all_processed.groupby('RainBool').agg({'customID': 'count'}).reset_index()\n",
    "\n",
    "#avg sales per rain\n",
    "avg_sales_rain = df_sales_per_rain[df_sales_per_rain['RainBool'] == 1]['customID'].mean()\n",
    "avg_sales_no_rain = df_sales_per_rain[df_sales_per_rain['RainBool'] == 0]['customID'].mean()\n",
    "\n",
    "df_avg_sales_rain = pd.DataFrame({'Rain': ['Yes', 'No'], 'Avg Sales': [avg_sales_rain, avg_sales_no_rain]})"
   ]
  },
  {
   "cell_type": "code",
   "execution_count": null,
   "metadata": {},
   "outputs": [],
   "source": [
    "fig, ax = plt.subplots(figsize=(15,6))\n",
    "fig.suptitle('Sales during rain', fontsize=16)\n",
    "sns.barplot(x=df_avg_sales_rain['Rain'], y=df_avg_sales_rain['Avg Sales'], ax=ax, palette='Paired')\n",
    "ax.set_xticklabels(['Rain', 'No rain'])\n",
    "ax.set_xlabel('Rain', fontsize=14)\n",
    "ax.set_ylabel('Sales', fontsize=14)\n",
    "plt.show()"
   ]
  },
  {
   "cell_type": "code",
   "execution_count": null,
   "metadata": {},
   "outputs": [],
   "source": [
    "df_rain = df_2022_processed.copy()\n",
    "df_rain['Rain'] = df_rain['Rain'] / 10\n",
    "df_rain['Rain category'] = pd.cut(df_rain['Rain'], bins=[-1, 0, 5, 10, 15, 20, 25, 30, 35, 40], labels=['0', '1-5', '6-10', '11-15', '16-20', '21-25', '26-30', '31-35', '36-40'])\n",
    "\n",
    "df_rain_per_rain = df_rain.groupby('Rain category').agg({'customID': 'count'}).reset_index()\n"
   ]
  },
  {
   "cell_type": "code",
   "execution_count": null,
   "metadata": {},
   "outputs": [],
   "source": [
    "fig, ax = plt.subplots(figsize=(15,6))\n",
    "fig.suptitle('Sales per rain category', fontsize=16)\n",
    "sns.barplot(x=df_rain_per_rain['Rain category'], y=df_rain_per_rain['customID'], ax=ax, palette='Paired')\n",
    "ax.set_xlabel('Rain', fontsize=14)\n",
    "ax.set_ylabel('Sales', fontsize=14)\n",
    "plt.show()"
   ]
  },
  {
   "cell_type": "markdown",
   "metadata": {},
   "source": [
    "### Sales by temperature category"
   ]
  },
  {
   "cell_type": "code",
   "execution_count": null,
   "metadata": {},
   "outputs": [],
   "source": [
    "#change temp from 0.1 degrees to 1 degrees\n",
    "df_temp_all = df_2022_processed.copy()\n",
    "df_temp_all['Avg Temp'] = df_temp_all['Avg Temp'] / 10"
   ]
  },
  {
   "cell_type": "code",
   "execution_count": null,
   "metadata": {},
   "outputs": [],
   "source": [
    "#create temperature categories\n",
    "df_temp_all['Temp category'] = pd.cut(df_temp_all['Avg Temp'], bins=[-5, 0,  5, 10, 15, 20, 25, 30], labels=['<0', '0-5', '5-10', '10-15', '15-20', '20-25', '>25'])\n",
    "\n",
    "df_sales_per_temp = df_temp_all.groupby('Temp category').agg({'customID': 'count'}).reset_index()\n",
    "\n",
    "#avg sales per temp category\n",
    "avg_sales_temp_0 = df_sales_per_temp[df_sales_per_temp['Temp category'] == '<0']['customID'].mean()\n",
    "avg_sales_temp_1 = df_sales_per_temp[df_sales_per_temp['Temp category'] == '0-5']['customID'].mean()\n",
    "avg_sales_temp_2 = df_sales_per_temp[df_sales_per_temp['Temp category'] == '5-10']['customID'].mean()\n",
    "avg_sales_temp_3 = df_sales_per_temp[df_sales_per_temp['Temp category'] == '10-15']['customID'].mean()\n",
    "avg_sales_temp_4 = df_sales_per_temp[df_sales_per_temp['Temp category'] == '15-20']['customID'].mean()\n",
    "avg_sales_temp_5 = df_sales_per_temp[df_sales_per_temp['Temp category'] == '20-25']['customID'].mean()\n",
    "avg_sales_temp_6 = df_sales_per_temp[df_sales_per_temp['Temp category'] == '>25']['customID'].mean()\n",
    "\n",
    "df_avg_sales_temp = pd.DataFrame({'Temp category': ['<0', '0-5', '5-10', '10-15', '15-20', '20-25', '>25'], 'Avg Sales': [avg_sales_temp_0, avg_sales_temp_1, avg_sales_temp_2, avg_sales_temp_3, avg_sales_temp_4, avg_sales_temp_5, avg_sales_temp_6]})\n",
    "# df_avg_sales_temp = df_avg_sales_temp.sort_values(by='Temp category')\n",
    "\n"
   ]
  },
  {
   "cell_type": "code",
   "execution_count": null,
   "metadata": {},
   "outputs": [],
   "source": [
    "fig, ax = plt.subplots(figsize=(15,6))\n",
    "fig.suptitle('Sales per temperature category', fontsize=16)\n",
    "sns.barplot(x=df_sales_per_temp['Temp category'], y=df_sales_per_temp['customID'], ax=ax, palette='Paired')\n",
    "ax.set_xlabel('Temperature', fontsize=14)\n",
    "ax.set_ylabel('Sales', fontsize=14)\n",
    "plt.show()"
   ]
  },
  {
   "cell_type": "code",
   "execution_count": null,
   "metadata": {},
   "outputs": [],
   "source": [
    "fig, ax = plt.subplots(figsize=(15,6))\n",
    "fig.suptitle('Average sales per temperature category', fontsize=16)\n",
    "sns.barplot(x=df_avg_sales_temp['Temp category'], y=df_avg_sales_temp['Avg Sales'], ax=ax, palette='Paired')\n",
    "ax.set_xlabel('Temperature', fontsize=14)\n",
    "ax.set_ylabel('Sales', fontsize=14)\n",
    "plt.show()"
   ]
  },
  {
   "cell_type": "markdown",
   "metadata": {},
   "source": [
    "### Sales for hours of sun"
   ]
  },
  {
   "cell_type": "code",
   "execution_count": null,
   "metadata": {},
   "outputs": [],
   "source": [
    "#sun hour categories\n",
    "df_sun_all = df_2022_processed.copy()\n",
    "df_sun_all['Sun Hours'] = df_sun_all['Sun Hours'] / 10"
   ]
  },
  {
   "cell_type": "code",
   "execution_count": null,
   "metadata": {},
   "outputs": [],
   "source": [
    "df_sun_all['Sun category'] = pd.cut(df_sun_all['Sun Hours'], bins=[0, 1, 2, 3, 4, 5, 6, 7, 8, 9, 10, 11, 12, 13, 14, 15], labels=['0-1', '1-2', '2-3', '3-4', '4-5', '5-6', '6-7', '7-8','8-9', '9-10', '10-11', '11-12', '12-13', '13-14', '>14'])\n",
    "df_sales_per_sun = df_sun_all.groupby('Sun category').agg({'customID': 'count'}).reset_index()\n",
    "\n",
    "#avg sales per sun category\n",
    "avg_sales_sun_0 = df_sales_per_sun[df_sales_per_sun['Sun category'] == '0-1']['customID'].mean()\n",
    "avg_sales_sun_1 = df_sales_per_sun[df_sales_per_sun['Sun category'] == '1-2']['customID'].mean()\n",
    "avg_sales_sun_2 = df_sales_per_sun[df_sales_per_sun['Sun category'] == '2-3']['customID'].mean()\n",
    "avg_sales_sun_3 = df_sales_per_sun[df_sales_per_sun['Sun category'] == '3-4']['customID'].mean()\n",
    "avg_sales_sun_4 = df_sales_per_sun[df_sales_per_sun['Sun category'] == '4-5']['customID'].mean()\n",
    "avg_sales_sun_5 = df_sales_per_sun[df_sales_per_sun['Sun category'] == '5-6']['customID'].mean()\n",
    "avg_sales_sun_6 = df_sales_per_sun[df_sales_per_sun['Sun category'] == '6-7']['customID'].mean()\n",
    "avg_sales_sun_7 = df_sales_per_sun[df_sales_per_sun['Sun category'] == '7-8']['customID'].mean()\n",
    "avg_sales_sun_8 = df_sales_per_sun[df_sales_per_sun['Sun category'] == '8-9']['customID'].mean()\n",
    "avg_sales_sun_9 = df_sales_per_sun[df_sales_per_sun['Sun category'] == '9-10']['customID'].mean()\n",
    "avg_sales_sun_10 = df_sales_per_sun[df_sales_per_sun['Sun category'] == '10-11']['customID'].mean()\n",
    "avg_sales_sun_11 = df_sales_per_sun[df_sales_per_sun['Sun category'] == '11-12']['customID'].mean()\n",
    "avg_sales_sun_12 = df_sales_per_sun[df_sales_per_sun['Sun category'] == '12-13']['customID'].mean()\n",
    "avg_sales_sun_13 = df_sales_per_sun[df_sales_per_sun['Sun category'] == '13-14']['customID'].mean()\n",
    "avg_sales_sun_14 = df_sales_per_sun[df_sales_per_sun['Sun category'] == '>14']['customID'].mean()\n",
    "\n",
    "df_avg_sales_sun = pd.DataFrame({'Sun category': ['0-1', '1-2', '2-3', '3-4', '4-5', '5-6', '6-7','7-8', '8-9', '9-10', '10-11', '11-12', '12-13', '13-14', '>14'], 'Avg Sales': [avg_sales_sun_0, avg_sales_sun_1, avg_sales_sun_2, avg_sales_sun_3, avg_sales_sun_4, avg_sales_sun_5, avg_sales_sun_6, avg_sales_sun_7, avg_sales_sun_8, avg_sales_sun_9, avg_sales_sun_10, avg_sales_sun_11, avg_sales_sun_12, avg_sales_sun_13, avg_sales_sun_14]})\n"
   ]
  },
  {
   "cell_type": "code",
   "execution_count": null,
   "metadata": {},
   "outputs": [],
   "source": [
    "fig, ax = plt.subplots(figsize=(15,6))\n",
    "fig.suptitle('Sales per amount of sun', fontsize=16)\n",
    "sns.barplot(x=df_sales_per_sun['Sun category'], y=df_sales_per_sun['customID'], ax=ax, palette='Paired')\n",
    "ax.set_xlabel('Sun hours', fontsize=14)\n",
    "ax.set_ylabel('Sales', fontsize=14)\n",
    "plt.show()"
   ]
  },
  {
   "cell_type": "code",
   "execution_count": null,
   "metadata": {},
   "outputs": [],
   "source": [
    "fig, ax = plt.subplots(figsize=(15,6))\n",
    "fig.suptitle('Average sales per amount of sun', fontsize=16)\n",
    "sns.barplot(x=df_avg_sales_sun['Sun category'], y=df_avg_sales_sun['Avg Sales'], ax=ax, palette='Paired')\n",
    "ax.set_xlabel('Sun hours', fontsize=14)\n",
    "ax.set_ylabel('Sales', fontsize=14)\n",
    "plt.show()"
   ]
  },
  {
   "cell_type": "markdown",
   "metadata": {},
   "source": [
    "### Hierarchy categories"
   ]
  },
  {
   "cell_type": "code",
   "execution_count": null,
   "metadata": {},
   "outputs": [],
   "source": [
    "#hierarchical categories\n",
    "# df_2022_processed['SaleMerchandiseHierarchy'].value_counts()[0:11]\n",
    "\n",
    "#find products in hierarchy 109.20.01.01\n",
    "df_109 = df_2022_processed[df_2022_processed['SaleMerchandiseHierarchy'] == '109.03.00.03']\n",
    "df_109['SaleDescription'].value_counts()[0:10]\n"
   ]
  },
  {
   "cell_type": "code",
   "execution_count": null,
   "metadata": {},
   "outputs": [],
   "source": [
    "#import xlsx file with hierarchy\n",
    "df_hierarchy = pd.read_excel('C:/Users/20193222/OneDrive - TU Eindhoven/JADS/DiIA Project/Merchandise hierarchie.xlsx')\n",
    "df_hierarchy.head()"
   ]
  },
  {
   "cell_type": "code",
   "execution_count": null,
   "metadata": {},
   "outputs": [],
   "source": [
    "#only use 2022 data until june\n",
    "df_2022_to_june = df_2022_processed[df_2022_processed['Month'] < 7]"
   ]
  },
  {
   "cell_type": "code",
   "execution_count": null,
   "metadata": {},
   "outputs": [],
   "source": [
    "df_top_cat_22 = df_2022_to_june['SaleMerchandiseHierarchy'].value_counts()[0:11].to_frame()\n",
    "df_top_cat_23 = df_2023_processed['SaleMerchandiseHierarchy'].value_counts()[0:11].to_frame()\n",
    "\n",
    "df_top_cat_22['Year'] = 2022\n",
    "df_top_cat_23['Year'] = 2023\n",
    "\n",
    "df_top_cat = pd.concat([df_top_cat_22, df_top_cat_23]).reset_index()\n",
    "df_top_cat = df_top_cat[df_top_cat['SaleMerchandiseHierarchy'] != '700.97.70.20']\n",
    "df_top_cat = df_top_cat.reset_index(drop=True)\n",
    "# df_top_cat['Category'] = df_top_cat['SaleMerchandiseHierarchy'].map(cat_dict)\n"
   ]
  },
  {
   "cell_type": "code",
   "execution_count": null,
   "metadata": {},
   "outputs": [],
   "source": [
    "#use df_hierarchy to get categories - Subgroep is linked to SaleMerchandiseHierarchy and SubgroepNaam is the Category\n",
    "for i in range(len(df_top_cat)):\n",
    "    df_top_cat.loc[i, 'Category'] = df_hierarchy[df_hierarchy['Subgroep'] == df_top_cat.loc[i, 'SaleMerchandiseHierarchy']]['SubgroepNaam'].values[0]\n",
    "    \n",
    "df_top_cat.head(20)\n"
   ]
  },
  {
   "cell_type": "code",
   "execution_count": null,
   "metadata": {},
   "outputs": [],
   "source": [
    "fig, ax = plt.subplots(figsize=(15,6))\n",
    "fig.suptitle('Sales per category', fontsize=16)\n",
    "sns.barplot(x=df_top_cat['Category'], y=df_top_cat['count'], ax=ax, hue=df_top_cat['Year'], palette='Paired')\n",
    "ax.set_xlabel('Category', fontsize=14)\n",
    "ax.set_ylabel('Sales', fontsize=14)\n",
    "plt.xticks(rotation=30)\n",
    "plt.show()"
   ]
  }
 ],
 "metadata": {
  "kernelspec": {
   "display_name": "env",
   "language": "python",
   "name": "python3"
  },
  "language_info": {
   "codemirror_mode": {
    "name": "ipython",
    "version": 3
   },
   "file_extension": ".py",
   "mimetype": "text/x-python",
   "name": "python",
   "nbconvert_exporter": "python",
   "pygments_lexer": "ipython3",
   "version": "3.11.2"
  }
 },
 "nbformat": 4,
 "nbformat_minor": 2
}
